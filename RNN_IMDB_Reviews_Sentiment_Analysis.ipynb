{
  "nbformat": 4,
  "nbformat_minor": 0,
  "metadata": {
    "colab": {
      "provenance": [],
      "gpuType": "T4"
    },
    "kernelspec": {
      "name": "python3",
      "display_name": "Python 3"
    },
    "language_info": {
      "name": "python"
    }
  },
  "cells": [
    {
      "cell_type": "markdown",
      "source": [
        "# Integer Encoding of Text"
      ],
      "metadata": {
        "id": "LNPW-9PDX31H"
      }
    },
    {
      "cell_type": "code",
      "execution_count": 1,
      "metadata": {
        "id": "SX1YuKQ4UDon"
      },
      "outputs": [],
      "source": [
        "import numpy as np"
      ]
    },
    {
      "cell_type": "code",
      "source": [
        "# Random text taken as part of docs list\n",
        "\n",
        "docs = ['recurrent neural network',\n",
        "\t\t'neural network',\n",
        "\t\t'artificial neural',\n",
        "\t\t'connections between nodes',\n",
        "\t\t'can create a cycle',\n",
        "\t\t'allowing output',\n",
        "\t\t'some nodes to affect subsequent',\n",
        "\t\t'exhibit temporal',\n",
        "\t\t'dynamic behavior',\n",
        "\t\t'type of Neural Network',\n",
        "    'affect subsequent']"
      ],
      "metadata": {
        "id": "KB7xfbIoWmy3"
      },
      "execution_count": 2,
      "outputs": []
    },
    {
      "cell_type": "code",
      "source": [
        "# Tokenization is done to assign integer value to the words.\n",
        "# We initialize Tokenizer with oov_token with default \"<nothing>\" .\n",
        "# oov is \"out of vocabulary\" to ensure any new text which is not part of the existing text will be assigned \"nothing\"\n",
        "\n",
        "from keras.preprocessing.text import Tokenizer\n",
        "tokenizer = Tokenizer(oov_token='<nothing>')"
      ],
      "metadata": {
        "id": "pOJzJ3vzUOkh"
      },
      "execution_count": 3,
      "outputs": []
    },
    {
      "cell_type": "code",
      "source": [
        "tokenizer.fit_on_texts(docs)"
      ],
      "metadata": {
        "id": "njO0da4-Unl8"
      },
      "execution_count": 4,
      "outputs": []
    },
    {
      "cell_type": "code",
      "source": [
        "# It display all the integer value assigned by the tokenizer to the words\n",
        "\n",
        "tokenizer.word_index"
      ],
      "metadata": {
        "id": "GrKpFbzRUucs",
        "colab": {
          "base_uri": "https://localhost:8080/"
        },
        "outputId": "7ca8f68e-5f28-4dfc-ff34-b55d401706b1"
      },
      "execution_count": 5,
      "outputs": [
        {
          "output_type": "execute_result",
          "data": {
            "text/plain": [
              "{'<nothing>': 1,\n",
              " 'neural': 2,\n",
              " 'network': 3,\n",
              " 'nodes': 4,\n",
              " 'affect': 5,\n",
              " 'subsequent': 6,\n",
              " 'recurrent': 7,\n",
              " 'artificial': 8,\n",
              " 'connections': 9,\n",
              " 'between': 10,\n",
              " 'can': 11,\n",
              " 'create': 12,\n",
              " 'a': 13,\n",
              " 'cycle': 14,\n",
              " 'allowing': 15,\n",
              " 'output': 16,\n",
              " 'some': 17,\n",
              " 'to': 18,\n",
              " 'exhibit': 19,\n",
              " 'temporal': 20,\n",
              " 'dynamic': 21,\n",
              " 'behavior': 22,\n",
              " 'type': 23,\n",
              " 'of': 24}"
            ]
          },
          "metadata": {},
          "execution_count": 5
        }
      ]
    },
    {
      "cell_type": "code",
      "source": [
        "# It display the count of unique word in the docs\n",
        "\n",
        "tokenizer.word_counts"
      ],
      "metadata": {
        "colab": {
          "base_uri": "https://localhost:8080/"
        },
        "id": "jNcKSYUYegGl",
        "outputId": "ad0753aa-4202-4eb0-e2fa-f2631a4b1b73"
      },
      "execution_count": 6,
      "outputs": [
        {
          "output_type": "execute_result",
          "data": {
            "text/plain": [
              "OrderedDict([('recurrent', 1),\n",
              "             ('neural', 4),\n",
              "             ('network', 3),\n",
              "             ('artificial', 1),\n",
              "             ('connections', 1),\n",
              "             ('between', 1),\n",
              "             ('nodes', 2),\n",
              "             ('can', 1),\n",
              "             ('create', 1),\n",
              "             ('a', 1),\n",
              "             ('cycle', 1),\n",
              "             ('allowing', 1),\n",
              "             ('output', 1),\n",
              "             ('some', 1),\n",
              "             ('to', 1),\n",
              "             ('affect', 2),\n",
              "             ('subsequent', 2),\n",
              "             ('exhibit', 1),\n",
              "             ('temporal', 1),\n",
              "             ('dynamic', 1),\n",
              "             ('behavior', 1),\n",
              "             ('type', 1),\n",
              "             ('of', 1)])"
            ]
          },
          "metadata": {},
          "execution_count": 6
        }
      ]
    },
    {
      "cell_type": "code",
      "source": [
        "# it display the count of how many sentences we have in the docs\n",
        "\n",
        "tokenizer.document_count"
      ],
      "metadata": {
        "colab": {
          "base_uri": "https://localhost:8080/"
        },
        "id": "mx3SMLV3euuU",
        "outputId": "62025270-4bde-433f-c2b3-195ad9397a28"
      },
      "execution_count": 7,
      "outputs": [
        {
          "output_type": "execute_result",
          "data": {
            "text/plain": [
              "11"
            ]
          },
          "metadata": {},
          "execution_count": 7
        }
      ]
    },
    {
      "cell_type": "code",
      "source": [
        "# It will display what is the token integer value of each words in the sentence\n",
        "\n",
        "sequences = tokenizer.texts_to_sequences(docs)\n",
        "sequences"
      ],
      "metadata": {
        "id": "xNrqCeiUU05s",
        "colab": {
          "base_uri": "https://localhost:8080/"
        },
        "outputId": "e9e6b9b8-2405-49bc-bb09-9773b083af44"
      },
      "execution_count": 8,
      "outputs": [
        {
          "output_type": "execute_result",
          "data": {
            "text/plain": [
              "[[7, 2, 3],\n",
              " [2, 3],\n",
              " [8, 2],\n",
              " [9, 10, 4],\n",
              " [11, 12, 13, 14],\n",
              " [15, 16],\n",
              " [17, 4, 18, 5, 6],\n",
              " [19, 20],\n",
              " [21, 22],\n",
              " [23, 24, 2, 3],\n",
              " [5, 6]]"
            ]
          },
          "metadata": {},
          "execution_count": 8
        }
      ]
    },
    {
      "cell_type": "markdown",
      "source": [
        "Explanation of the above\n",
        "\n",
        "**Sentence 1**  \"recurrent neural network\" </br>\n",
        "**Integer Tokens of each word  **  recurrent = 7, neural = 2 , network = 3 </br>\n",
        "Hence sequence of sentence 1 becomes [[7,2,3]]\n"
      ],
      "metadata": {
        "id": "JX2Tls3dqzrh"
      }
    },
    {
      "cell_type": "markdown",
      "source": [
        "# Padding"
      ],
      "metadata": {
        "id": "wd_ggvo_LVUL"
      }
    },
    {
      "cell_type": "code",
      "source": [
        "from keras.utils import pad_sequences"
      ],
      "metadata": {
        "id": "Y15DVHzhVCEY"
      },
      "execution_count": 9,
      "outputs": []
    },
    {
      "cell_type": "code",
      "source": [
        "# Since in each sentence, count of words are not same hence we will use padding to have same number of word length in each sentences\n",
        "\n",
        "sequences = pad_sequences(sequences,padding='post')"
      ],
      "metadata": {
        "id": "H00D6kZlVOC4"
      },
      "execution_count": 10,
      "outputs": []
    },
    {
      "cell_type": "code",
      "source": [
        "# sequence post padding\n",
        "\n",
        "sequences"
      ],
      "metadata": {
        "colab": {
          "base_uri": "https://localhost:8080/"
        },
        "id": "DjL4mCzTV4rT",
        "outputId": "a44a7879-399c-4ecf-a88b-ecdbce4a85a0"
      },
      "execution_count": 11,
      "outputs": [
        {
          "output_type": "execute_result",
          "data": {
            "text/plain": [
              "array([[ 7,  2,  3,  0,  0],\n",
              "       [ 2,  3,  0,  0,  0],\n",
              "       [ 8,  2,  0,  0,  0],\n",
              "       [ 9, 10,  4,  0,  0],\n",
              "       [11, 12, 13, 14,  0],\n",
              "       [15, 16,  0,  0,  0],\n",
              "       [17,  4, 18,  5,  6],\n",
              "       [19, 20,  0,  0,  0],\n",
              "       [21, 22,  0,  0,  0],\n",
              "       [23, 24,  2,  3,  0],\n",
              "       [ 5,  6,  0,  0,  0]], dtype=int32)"
            ]
          },
          "metadata": {},
          "execution_count": 11
        }
      ]
    },
    {
      "cell_type": "markdown",
      "source": [
        "## Sentiment Analysis of IMDB review Dataset"
      ],
      "metadata": {
        "id": "c7rcF89nX-L-"
      }
    },
    {
      "cell_type": "code",
      "source": [
        "from keras.datasets import imdb\n",
        "from keras import Sequential\n",
        "from keras.layers import Dense,SimpleRNN,Embedding,Flatten"
      ],
      "metadata": {
        "id": "f4cMDq3KDiaC"
      },
      "execution_count": 12,
      "outputs": []
    },
    {
      "cell_type": "code",
      "source": [
        "# Loading imdb dataset\n",
        "(X_train,y_train),(X_test,y_test) = imdb.load_data()"
      ],
      "metadata": {
        "colab": {
          "base_uri": "https://localhost:8080/"
        },
        "id": "vVqDOLaefsom",
        "outputId": "72934b23-04a8-415f-dd66-f8b0d8cebf98"
      },
      "execution_count": 13,
      "outputs": [
        {
          "output_type": "stream",
          "name": "stdout",
          "text": [
            "Downloading data from https://storage.googleapis.com/tensorflow/tf-keras-datasets/imdb.npz\n",
            "17464789/17464789 [==============================] - 0s 0us/step\n"
          ]
        }
      ]
    },
    {
      "cell_type": "code",
      "source": [
        "y_test"
      ],
      "metadata": {
        "colab": {
          "base_uri": "https://localhost:8080/"
        },
        "id": "Hd_XBSo1Rnwe",
        "outputId": "e1dca541-699c-41eb-cfcb-567751fb77f7"
      },
      "execution_count": 14,
      "outputs": [
        {
          "output_type": "execute_result",
          "data": {
            "text/plain": [
              "array([0, 1, 1, ..., 0, 0, 0])"
            ]
          },
          "metadata": {},
          "execution_count": 14
        }
      ]
    },
    {
      "cell_type": "code",
      "source": [
        "# checking length of X_train dataset\n",
        "\n",
        "print(len(X_train[2]))\n",
        "print(len(X_train[3]))"
      ],
      "metadata": {
        "colab": {
          "base_uri": "https://localhost:8080/"
        },
        "id": "u9tGLS4ofzBu",
        "outputId": "293e4322-447e-4eb5-d886-eb7cbeadfef7"
      },
      "execution_count": 15,
      "outputs": [
        {
          "output_type": "stream",
          "name": "stdout",
          "text": [
            "141\n",
            "550\n"
          ]
        }
      ]
    },
    {
      "cell_type": "markdown",
      "source": [
        "We can see that length of X_train Dataset for each rows are not same"
      ],
      "metadata": {
        "id": "3csM6mW1Lrln"
      }
    },
    {
      "cell_type": "code",
      "source": [
        "# X_train[2] before padding\n",
        "X_train[2]"
      ],
      "metadata": {
        "colab": {
          "base_uri": "https://localhost:8080/"
        },
        "id": "HTk54ntQfu6W",
        "outputId": "06142c5c-29e1-4d2c-d15f-7cb7bfcdb093"
      },
      "execution_count": 16,
      "outputs": [
        {
          "output_type": "execute_result",
          "data": {
            "text/plain": [
              "[1,\n",
              " 14,\n",
              " 47,\n",
              " 8,\n",
              " 30,\n",
              " 31,\n",
              " 7,\n",
              " 4,\n",
              " 249,\n",
              " 108,\n",
              " 7,\n",
              " 4,\n",
              " 5974,\n",
              " 54,\n",
              " 61,\n",
              " 369,\n",
              " 13,\n",
              " 71,\n",
              " 149,\n",
              " 14,\n",
              " 22,\n",
              " 112,\n",
              " 4,\n",
              " 2401,\n",
              " 311,\n",
              " 12,\n",
              " 16,\n",
              " 3711,\n",
              " 33,\n",
              " 75,\n",
              " 43,\n",
              " 1829,\n",
              " 296,\n",
              " 4,\n",
              " 86,\n",
              " 320,\n",
              " 35,\n",
              " 534,\n",
              " 19,\n",
              " 263,\n",
              " 4821,\n",
              " 1301,\n",
              " 4,\n",
              " 1873,\n",
              " 33,\n",
              " 89,\n",
              " 78,\n",
              " 12,\n",
              " 66,\n",
              " 16,\n",
              " 4,\n",
              " 360,\n",
              " 7,\n",
              " 4,\n",
              " 58,\n",
              " 316,\n",
              " 334,\n",
              " 11,\n",
              " 4,\n",
              " 1716,\n",
              " 43,\n",
              " 645,\n",
              " 662,\n",
              " 8,\n",
              " 257,\n",
              " 85,\n",
              " 1200,\n",
              " 42,\n",
              " 1228,\n",
              " 2578,\n",
              " 83,\n",
              " 68,\n",
              " 3912,\n",
              " 15,\n",
              " 36,\n",
              " 165,\n",
              " 1539,\n",
              " 278,\n",
              " 36,\n",
              " 69,\n",
              " 44076,\n",
              " 780,\n",
              " 8,\n",
              " 106,\n",
              " 14,\n",
              " 6905,\n",
              " 1338,\n",
              " 18,\n",
              " 6,\n",
              " 22,\n",
              " 12,\n",
              " 215,\n",
              " 28,\n",
              " 610,\n",
              " 40,\n",
              " 6,\n",
              " 87,\n",
              " 326,\n",
              " 23,\n",
              " 2300,\n",
              " 21,\n",
              " 23,\n",
              " 22,\n",
              " 12,\n",
              " 272,\n",
              " 40,\n",
              " 57,\n",
              " 31,\n",
              " 11,\n",
              " 4,\n",
              " 22,\n",
              " 47,\n",
              " 6,\n",
              " 2307,\n",
              " 51,\n",
              " 9,\n",
              " 170,\n",
              " 23,\n",
              " 595,\n",
              " 116,\n",
              " 595,\n",
              " 1352,\n",
              " 13,\n",
              " 191,\n",
              " 79,\n",
              " 638,\n",
              " 89,\n",
              " 51428,\n",
              " 14,\n",
              " 9,\n",
              " 8,\n",
              " 106,\n",
              " 607,\n",
              " 624,\n",
              " 35,\n",
              " 534,\n",
              " 6,\n",
              " 227,\n",
              " 7,\n",
              " 129,\n",
              " 113]"
            ]
          },
          "metadata": {},
          "execution_count": 16
        }
      ]
    },
    {
      "cell_type": "code",
      "source": [
        "# X_train[3] before padding\n",
        "X_train[3]"
      ],
      "metadata": {
        "colab": {
          "base_uri": "https://localhost:8080/"
        },
        "id": "lMLqAh80x066",
        "outputId": "004511e5-fdf4-493d-8ad0-929dcbf308ca"
      },
      "execution_count": 17,
      "outputs": [
        {
          "output_type": "execute_result",
          "data": {
            "text/plain": [
              "[1,\n",
              " 4,\n",
              " 18609,\n",
              " 16085,\n",
              " 33,\n",
              " 2804,\n",
              " 4,\n",
              " 2040,\n",
              " 432,\n",
              " 111,\n",
              " 153,\n",
              " 103,\n",
              " 4,\n",
              " 1494,\n",
              " 13,\n",
              " 70,\n",
              " 131,\n",
              " 67,\n",
              " 11,\n",
              " 61,\n",
              " 15305,\n",
              " 744,\n",
              " 35,\n",
              " 3715,\n",
              " 761,\n",
              " 61,\n",
              " 5766,\n",
              " 452,\n",
              " 9214,\n",
              " 4,\n",
              " 985,\n",
              " 7,\n",
              " 64317,\n",
              " 59,\n",
              " 166,\n",
              " 4,\n",
              " 105,\n",
              " 216,\n",
              " 1239,\n",
              " 41,\n",
              " 1797,\n",
              " 9,\n",
              " 15,\n",
              " 7,\n",
              " 35,\n",
              " 744,\n",
              " 2413,\n",
              " 31,\n",
              " 8,\n",
              " 4,\n",
              " 687,\n",
              " 23,\n",
              " 4,\n",
              " 33929,\n",
              " 7339,\n",
              " 6,\n",
              " 3693,\n",
              " 42,\n",
              " 38,\n",
              " 39,\n",
              " 121,\n",
              " 59,\n",
              " 456,\n",
              " 10,\n",
              " 10,\n",
              " 7,\n",
              " 265,\n",
              " 12,\n",
              " 575,\n",
              " 111,\n",
              " 153,\n",
              " 159,\n",
              " 59,\n",
              " 16,\n",
              " 1447,\n",
              " 21,\n",
              " 25,\n",
              " 586,\n",
              " 482,\n",
              " 39,\n",
              " 4,\n",
              " 96,\n",
              " 59,\n",
              " 716,\n",
              " 12,\n",
              " 4,\n",
              " 172,\n",
              " 65,\n",
              " 9,\n",
              " 579,\n",
              " 11,\n",
              " 6004,\n",
              " 4,\n",
              " 1615,\n",
              " 5,\n",
              " 23005,\n",
              " 7,\n",
              " 5168,\n",
              " 17,\n",
              " 13,\n",
              " 7064,\n",
              " 12,\n",
              " 19,\n",
              " 6,\n",
              " 464,\n",
              " 31,\n",
              " 314,\n",
              " 11,\n",
              " 87564,\n",
              " 6,\n",
              " 719,\n",
              " 605,\n",
              " 11,\n",
              " 8,\n",
              " 202,\n",
              " 27,\n",
              " 310,\n",
              " 4,\n",
              " 3772,\n",
              " 3501,\n",
              " 8,\n",
              " 2722,\n",
              " 58,\n",
              " 10,\n",
              " 10,\n",
              " 537,\n",
              " 2116,\n",
              " 180,\n",
              " 40,\n",
              " 14,\n",
              " 413,\n",
              " 173,\n",
              " 7,\n",
              " 263,\n",
              " 112,\n",
              " 37,\n",
              " 152,\n",
              " 377,\n",
              " 4,\n",
              " 537,\n",
              " 263,\n",
              " 846,\n",
              " 579,\n",
              " 178,\n",
              " 54,\n",
              " 75,\n",
              " 71,\n",
              " 476,\n",
              " 36,\n",
              " 413,\n",
              " 263,\n",
              " 2504,\n",
              " 182,\n",
              " 5,\n",
              " 17,\n",
              " 75,\n",
              " 2306,\n",
              " 922,\n",
              " 36,\n",
              " 279,\n",
              " 131,\n",
              " 2895,\n",
              " 17,\n",
              " 2867,\n",
              " 42,\n",
              " 17,\n",
              " 35,\n",
              " 921,\n",
              " 18435,\n",
              " 192,\n",
              " 5,\n",
              " 1219,\n",
              " 3890,\n",
              " 19,\n",
              " 20523,\n",
              " 217,\n",
              " 4122,\n",
              " 1710,\n",
              " 537,\n",
              " 20341,\n",
              " 1236,\n",
              " 5,\n",
              " 736,\n",
              " 10,\n",
              " 10,\n",
              " 61,\n",
              " 403,\n",
              " 9,\n",
              " 47289,\n",
              " 40,\n",
              " 61,\n",
              " 4494,\n",
              " 5,\n",
              " 27,\n",
              " 4494,\n",
              " 159,\n",
              " 90,\n",
              " 263,\n",
              " 2311,\n",
              " 4319,\n",
              " 309,\n",
              " 8,\n",
              " 178,\n",
              " 5,\n",
              " 82,\n",
              " 4319,\n",
              " 4,\n",
              " 65,\n",
              " 15,\n",
              " 9225,\n",
              " 145,\n",
              " 143,\n",
              " 5122,\n",
              " 12,\n",
              " 7039,\n",
              " 537,\n",
              " 746,\n",
              " 537,\n",
              " 537,\n",
              " 15,\n",
              " 7979,\n",
              " 4,\n",
              " 18665,\n",
              " 594,\n",
              " 7,\n",
              " 5168,\n",
              " 94,\n",
              " 9096,\n",
              " 3987,\n",
              " 15242,\n",
              " 11,\n",
              " 28280,\n",
              " 4,\n",
              " 538,\n",
              " 7,\n",
              " 1795,\n",
              " 246,\n",
              " 56615,\n",
              " 9,\n",
              " 10161,\n",
              " 11,\n",
              " 635,\n",
              " 14,\n",
              " 9,\n",
              " 51,\n",
              " 408,\n",
              " 12,\n",
              " 94,\n",
              " 318,\n",
              " 1382,\n",
              " 12,\n",
              " 47,\n",
              " 6,\n",
              " 2683,\n",
              " 936,\n",
              " 5,\n",
              " 6307,\n",
              " 10197,\n",
              " 19,\n",
              " 49,\n",
              " 7,\n",
              " 4,\n",
              " 1885,\n",
              " 13699,\n",
              " 1118,\n",
              " 25,\n",
              " 80,\n",
              " 126,\n",
              " 842,\n",
              " 10,\n",
              " 10,\n",
              " 47289,\n",
              " 18223,\n",
              " 4726,\n",
              " 27,\n",
              " 4494,\n",
              " 11,\n",
              " 1550,\n",
              " 3633,\n",
              " 159,\n",
              " 27,\n",
              " 341,\n",
              " 29,\n",
              " 2733,\n",
              " 19,\n",
              " 4185,\n",
              " 173,\n",
              " 7,\n",
              " 90,\n",
              " 16376,\n",
              " 8,\n",
              " 30,\n",
              " 11,\n",
              " 4,\n",
              " 1784,\n",
              " 86,\n",
              " 1117,\n",
              " 8,\n",
              " 3261,\n",
              " 46,\n",
              " 11,\n",
              " 25837,\n",
              " 21,\n",
              " 29,\n",
              " 9,\n",
              " 2841,\n",
              " 23,\n",
              " 4,\n",
              " 1010,\n",
              " 26747,\n",
              " 793,\n",
              " 6,\n",
              " 13699,\n",
              " 1386,\n",
              " 1830,\n",
              " 10,\n",
              " 10,\n",
              " 246,\n",
              " 50,\n",
              " 9,\n",
              " 6,\n",
              " 2750,\n",
              " 1944,\n",
              " 746,\n",
              " 90,\n",
              " 29,\n",
              " 16376,\n",
              " 8,\n",
              " 124,\n",
              " 4,\n",
              " 882,\n",
              " 4,\n",
              " 882,\n",
              " 496,\n",
              " 27,\n",
              " 33029,\n",
              " 2213,\n",
              " 537,\n",
              " 121,\n",
              " 127,\n",
              " 1219,\n",
              " 130,\n",
              " 5,\n",
              " 29,\n",
              " 494,\n",
              " 8,\n",
              " 124,\n",
              " 4,\n",
              " 882,\n",
              " 496,\n",
              " 4,\n",
              " 341,\n",
              " 7,\n",
              " 27,\n",
              " 846,\n",
              " 10,\n",
              " 10,\n",
              " 29,\n",
              " 9,\n",
              " 1906,\n",
              " 8,\n",
              " 97,\n",
              " 6,\n",
              " 236,\n",
              " 11120,\n",
              " 1311,\n",
              " 8,\n",
              " 4,\n",
              " 23643,\n",
              " 7,\n",
              " 31,\n",
              " 7,\n",
              " 29851,\n",
              " 91,\n",
              " 22793,\n",
              " 3987,\n",
              " 70,\n",
              " 4,\n",
              " 882,\n",
              " 30,\n",
              " 579,\n",
              " 42,\n",
              " 9,\n",
              " 12,\n",
              " 32,\n",
              " 11,\n",
              " 537,\n",
              " 10,\n",
              " 10,\n",
              " 11,\n",
              " 14,\n",
              " 65,\n",
              " 44,\n",
              " 537,\n",
              " 75,\n",
              " 11876,\n",
              " 1775,\n",
              " 3353,\n",
              " 12716,\n",
              " 1846,\n",
              " 4,\n",
              " 11286,\n",
              " 7,\n",
              " 154,\n",
              " 5,\n",
              " 4,\n",
              " 518,\n",
              " 53,\n",
              " 13243,\n",
              " 11286,\n",
              " 7,\n",
              " 3211,\n",
              " 882,\n",
              " 11,\n",
              " 399,\n",
              " 38,\n",
              " 75,\n",
              " 257,\n",
              " 3807,\n",
              " 19,\n",
              " 18223,\n",
              " 17,\n",
              " 29,\n",
              " 456,\n",
              " 4,\n",
              " 65,\n",
              " 7,\n",
              " 27,\n",
              " 205,\n",
              " 113,\n",
              " 10,\n",
              " 10,\n",
              " 33058,\n",
              " 4,\n",
              " 22793,\n",
              " 10359,\n",
              " 9,\n",
              " 242,\n",
              " 4,\n",
              " 91,\n",
              " 1202,\n",
              " 11377,\n",
              " 5,\n",
              " 2070,\n",
              " 307,\n",
              " 22,\n",
              " 7,\n",
              " 5168,\n",
              " 126,\n",
              " 93,\n",
              " 40,\n",
              " 18223,\n",
              " 13,\n",
              " 188,\n",
              " 1076,\n",
              " 3222,\n",
              " 19,\n",
              " 4,\n",
              " 13465,\n",
              " 7,\n",
              " 2348,\n",
              " 537,\n",
              " 23,\n",
              " 53,\n",
              " 537,\n",
              " 21,\n",
              " 82,\n",
              " 40,\n",
              " 18223,\n",
              " 13,\n",
              " 33195,\n",
              " 14,\n",
              " 280,\n",
              " 13,\n",
              " 219,\n",
              " 4,\n",
              " 52788,\n",
              " 431,\n",
              " 758,\n",
              " 859,\n",
              " 4,\n",
              " 953,\n",
              " 1052,\n",
              " 12283,\n",
              " 7,\n",
              " 5991,\n",
              " 5,\n",
              " 94,\n",
              " 40,\n",
              " 25,\n",
              " 238,\n",
              " 60,\n",
              " 35410,\n",
              " 4,\n",
              " 15812,\n",
              " 804,\n",
              " 27767,\n",
              " 7,\n",
              " 4,\n",
              " 9941,\n",
              " 132,\n",
              " 8,\n",
              " 67,\n",
              " 6,\n",
              " 22,\n",
              " 15,\n",
              " 9,\n",
              " 283,\n",
              " 8,\n",
              " 5168,\n",
              " 14,\n",
              " 31,\n",
              " 9,\n",
              " 242,\n",
              " 955,\n",
              " 48,\n",
              " 25,\n",
              " 279,\n",
              " 22148,\n",
              " 23,\n",
              " 12,\n",
              " 1685,\n",
              " 195,\n",
              " 25,\n",
              " 238,\n",
              " 60,\n",
              " 796,\n",
              " 13713,\n",
              " 4,\n",
              " 671,\n",
              " 7,\n",
              " 2804,\n",
              " 5,\n",
              " 4,\n",
              " 559,\n",
              " 154,\n",
              " 888,\n",
              " 7,\n",
              " 726,\n",
              " 50,\n",
              " 26,\n",
              " 49,\n",
              " 7008,\n",
              " 15,\n",
              " 566,\n",
              " 30,\n",
              " 579,\n",
              " 21,\n",
              " 64,\n",
              " 2574]"
            ]
          },
          "metadata": {},
          "execution_count": 17
        }
      ]
    },
    {
      "cell_type": "markdown",
      "source": [
        "As can be seen length are not the same. We will need to use padding to maintain same length of each row"
      ],
      "metadata": {
        "id": "5EHnqHQAxKq4"
      }
    },
    {
      "cell_type": "code",
      "source": [
        "# adding padding to have length of maximum 50 for each row\n",
        "X_train = pad_sequences(X_train,padding='post',maxlen=50)\n",
        "X_test = pad_sequences(X_test,padding='post',maxlen=50)"
      ],
      "metadata": {
        "id": "uoEmzhEhf1aV"
      },
      "execution_count": 18,
      "outputs": []
    },
    {
      "cell_type": "code",
      "source": [
        "# X_train[2] post padding\n",
        "X_train[2]"
      ],
      "metadata": {
        "colab": {
          "base_uri": "https://localhost:8080/"
        },
        "id": "f4kNirFSgDEe",
        "outputId": "975b890f-113b-458f-8311-bff7d0c791dd"
      },
      "execution_count": 19,
      "outputs": [
        {
          "output_type": "execute_result",
          "data": {
            "text/plain": [
              "array([  215,    28,   610,    40,     6,    87,   326,    23,  2300,\n",
              "          21,    23,    22,    12,   272,    40,    57,    31,    11,\n",
              "           4,    22,    47,     6,  2307,    51,     9,   170,    23,\n",
              "         595,   116,   595,  1352,    13,   191,    79,   638,    89,\n",
              "       51428,    14,     9,     8,   106,   607,   624,    35,   534,\n",
              "           6,   227,     7,   129,   113], dtype=int32)"
            ]
          },
          "metadata": {},
          "execution_count": 19
        }
      ]
    },
    {
      "cell_type": "code",
      "source": [
        "# X_train[3] post padding\n",
        "X_train[3]"
      ],
      "metadata": {
        "colab": {
          "base_uri": "https://localhost:8080/"
        },
        "id": "bhD3fVuvxb3h",
        "outputId": "9a8b46dc-2360-4072-94fc-31cc66ba9d06"
      },
      "execution_count": 20,
      "outputs": [
        {
          "output_type": "execute_result",
          "data": {
            "text/plain": [
              "array([  132,     8,    67,     6,    22,    15,     9,   283,     8,\n",
              "        5168,    14,    31,     9,   242,   955,    48,    25,   279,\n",
              "       22148,    23,    12,  1685,   195,    25,   238,    60,   796,\n",
              "       13713,     4,   671,     7,  2804,     5,     4,   559,   154,\n",
              "         888,     7,   726,    50,    26,    49,  7008,    15,   566,\n",
              "          30,   579,    21,    64,  2574], dtype=int32)"
            ]
          },
          "metadata": {},
          "execution_count": 20
        }
      ]
    },
    {
      "cell_type": "code",
      "source": [
        "print(len(X_train[2]))\n",
        "print(len(X_train[3]))"
      ],
      "metadata": {
        "colab": {
          "base_uri": "https://localhost:8080/"
        },
        "id": "fKSZAIfCPpcf",
        "outputId": "ec5b8f1b-96fd-414b-ece5-99fe7f8818b7"
      },
      "execution_count": 21,
      "outputs": [
        {
          "output_type": "stream",
          "name": "stdout",
          "text": [
            "50\n",
            "50\n"
          ]
        }
      ]
    },
    {
      "cell_type": "markdown",
      "source": [
        "Both X_train[2] and X_train[3] has same length post padding"
      ],
      "metadata": {
        "id": "Nxmjtg89yjqm"
      }
    },
    {
      "cell_type": "markdown",
      "source": [
        "# Creating Simple RRN model"
      ],
      "metadata": {
        "id": "DSM0JPYoL7A5"
      }
    },
    {
      "cell_type": "code",
      "source": [
        "\n",
        "model = Sequential()\n",
        "\n",
        "\n",
        "# SimpleRNN is used for processing sequential data, such as time series data or sequences of text.\n",
        "# number of hidden units(neruon) = 32\n",
        "# input_shape =(50,1), sequence of length 50 with each step having a single feature\n",
        "# With return_sequences = False it follows many-to-one architecture\n",
        "    # If return_sequences = True it will return sequences as output\n",
        "    # If return_sequences = Falsethe layer will return only the output of the final time step\n",
        "\n",
        "model.add(SimpleRNN(32,input_shape=(50,1),return_sequences=False))\n",
        "# 1 Dense layer as we only have classification problem with activation = Sigmoid\n",
        "model.add(Dense(1,activation='sigmoid'))\n",
        "\n",
        "model.summary()"
      ],
      "metadata": {
        "colab": {
          "base_uri": "https://localhost:8080/"
        },
        "id": "MN_Fi3n6gFkp",
        "outputId": "352f875d-0ce8-4d82-fe38-b33268579758"
      },
      "execution_count": 24,
      "outputs": [
        {
          "output_type": "stream",
          "name": "stdout",
          "text": [
            "Model: \"sequential_1\"\n",
            "_________________________________________________________________\n",
            " Layer (type)                Output Shape              Param #   \n",
            "=================================================================\n",
            " simple_rnn_1 (SimpleRNN)    (None, 32)                1088      \n",
            "                                                                 \n",
            " dense_1 (Dense)             (None, 1)                 33        \n",
            "                                                                 \n",
            "=================================================================\n",
            "Total params: 1121 (4.38 KB)\n",
            "Trainable params: 1121 (4.38 KB)\n",
            "Non-trainable params: 0 (0.00 Byte)\n",
            "_________________________________________________________________\n"
          ]
        }
      ]
    },
    {
      "cell_type": "code",
      "source": [
        "model.compile(loss='binary_crossentropy',optimizer='adam',metrics=['accuracy'])\n",
        "\n",
        "model.fit(X_train,y_train,epochs=5,validation_data=(X_test,y_test))"
      ],
      "metadata": {
        "colab": {
          "base_uri": "https://localhost:8080/"
        },
        "id": "EArIjALcgPTh",
        "outputId": "72c720a0-af2e-4516-c469-8d782fcb1567"
      },
      "execution_count": 23,
      "outputs": [
        {
          "output_type": "stream",
          "name": "stdout",
          "text": [
            "Epoch 1/5\n",
            "782/782 [==============================] - 13s 15ms/step - loss: 0.6967 - accuracy: 0.5070 - val_loss: 0.6946 - val_accuracy: 0.4994\n",
            "Epoch 2/5\n",
            "782/782 [==============================] - 11s 14ms/step - loss: 0.6934 - accuracy: 0.5045 - val_loss: 0.6947 - val_accuracy: 0.4992\n",
            "Epoch 3/5\n",
            "782/782 [==============================] - 11s 14ms/step - loss: 0.6930 - accuracy: 0.5070 - val_loss: 0.6939 - val_accuracy: 0.5084\n",
            "Epoch 4/5\n",
            "782/782 [==============================] - 10s 13ms/step - loss: 0.6931 - accuracy: 0.5067 - val_loss: 0.6937 - val_accuracy: 0.5082\n",
            "Epoch 5/5\n",
            "782/782 [==============================] - 12s 15ms/step - loss: 0.6926 - accuracy: 0.5094 - val_loss: 0.6946 - val_accuracy: 0.5059\n"
          ]
        },
        {
          "output_type": "execute_result",
          "data": {
            "text/plain": [
              "<keras.src.callbacks.History at 0x7b936d05eaa0>"
            ]
          },
          "metadata": {},
          "execution_count": 23
        }
      ]
    },
    {
      "cell_type": "markdown",
      "source": [
        "# Encodings with keras Embeddings"
      ],
      "metadata": {
        "id": "cJfOPGsuZ5-3"
      }
    },
    {
      "cell_type": "code",
      "source": [
        "docs1 = ['recurrent neural network',\n",
        "\t\t'neural network',\n",
        "\t\t'artificial neural',\n",
        "\t\t'connections between nodes',\n",
        "\t\t'can create a cycle',\n",
        "\t\t'allowing output',\n",
        "\t\t'some nodes to affect subsequent',\n",
        "\t\t'exhibit temporal',\n",
        "\t\t'dynamic behavior',\n",
        "\t\t'type of Neural Network',\n",
        "    'affect subsequent']"
      ],
      "metadata": {
        "id": "N9ziz5wWgTLS"
      },
      "execution_count": 25,
      "outputs": []
    },
    {
      "cell_type": "code",
      "source": [
        "from keras.preprocessing.text import Tokenizer\n",
        "tokenizer = Tokenizer()"
      ],
      "metadata": {
        "id": "0xaBNsFYaHet"
      },
      "execution_count": 26,
      "outputs": []
    },
    {
      "cell_type": "code",
      "source": [
        "tokenizer.fit_on_texts(docs1)"
      ],
      "metadata": {
        "id": "6nRBvlzSaI3t"
      },
      "execution_count": 27,
      "outputs": []
    },
    {
      "cell_type": "code",
      "source": [
        "# It display all the interger value assigned by the tokenizer to the words\n",
        "tokenizer.word_index"
      ],
      "metadata": {
        "colab": {
          "base_uri": "https://localhost:8080/"
        },
        "id": "8dLLlk7ft6jn",
        "outputId": "ea376330-8925-4cd2-e587-3f67cff60e2a"
      },
      "execution_count": 28,
      "outputs": [
        {
          "output_type": "execute_result",
          "data": {
            "text/plain": [
              "{'neural': 1,\n",
              " 'network': 2,\n",
              " 'nodes': 3,\n",
              " 'affect': 4,\n",
              " 'subsequent': 5,\n",
              " 'recurrent': 6,\n",
              " 'artificial': 7,\n",
              " 'connections': 8,\n",
              " 'between': 9,\n",
              " 'can': 10,\n",
              " 'create': 11,\n",
              " 'a': 12,\n",
              " 'cycle': 13,\n",
              " 'allowing': 14,\n",
              " 'output': 15,\n",
              " 'some': 16,\n",
              " 'to': 17,\n",
              " 'exhibit': 18,\n",
              " 'temporal': 19,\n",
              " 'dynamic': 20,\n",
              " 'behavior': 21,\n",
              " 'type': 22,\n",
              " 'of': 23}"
            ]
          },
          "metadata": {},
          "execution_count": 28
        }
      ]
    },
    {
      "cell_type": "code",
      "source": [
        "# it gives the count of all unique words we have int the documents\n",
        "\n",
        "len(tokenizer.word_index)"
      ],
      "metadata": {
        "colab": {
          "base_uri": "https://localhost:8080/"
        },
        "id": "V_EdsajTaKUl",
        "outputId": "d7f2e56b-9d8a-4a8f-a0d1-e58ee206ae17"
      },
      "execution_count": 29,
      "outputs": [
        {
          "output_type": "execute_result",
          "data": {
            "text/plain": [
              "23"
            ]
          },
          "metadata": {},
          "execution_count": 29
        }
      ]
    },
    {
      "cell_type": "code",
      "source": [
        "# generating the sequence of docs1\n",
        "\n",
        "sequences = tokenizer.texts_to_sequences(docs1)\n",
        "sequences"
      ],
      "metadata": {
        "colab": {
          "base_uri": "https://localhost:8080/"
        },
        "id": "QF3bSnFRaMul",
        "outputId": "0be8f4e2-40c9-4bd9-a427-43e092d29777"
      },
      "execution_count": 30,
      "outputs": [
        {
          "output_type": "execute_result",
          "data": {
            "text/plain": [
              "[[6, 1, 2],\n",
              " [1, 2],\n",
              " [7, 1],\n",
              " [8, 9, 3],\n",
              " [10, 11, 12, 13],\n",
              " [14, 15],\n",
              " [16, 3, 17, 4, 5],\n",
              " [18, 19],\n",
              " [20, 21],\n",
              " [22, 23, 1, 2],\n",
              " [4, 5]]"
            ]
          },
          "metadata": {},
          "execution_count": 30
        }
      ]
    },
    {
      "cell_type": "code",
      "source": [
        "# adding padding to the sequences\n",
        "\n",
        "from keras.utils import pad_sequences\n",
        "sequences = pad_sequences(sequences,padding='post')\n",
        "sequences"
      ],
      "metadata": {
        "colab": {
          "base_uri": "https://localhost:8080/"
        },
        "id": "WTeHNheUaOhe",
        "outputId": "bce33e4e-a789-48f3-f16e-11373dde7d24"
      },
      "execution_count": 31,
      "outputs": [
        {
          "output_type": "execute_result",
          "data": {
            "text/plain": [
              "array([[ 6,  1,  2,  0,  0],\n",
              "       [ 1,  2,  0,  0,  0],\n",
              "       [ 7,  1,  0,  0,  0],\n",
              "       [ 8,  9,  3,  0,  0],\n",
              "       [10, 11, 12, 13,  0],\n",
              "       [14, 15,  0,  0,  0],\n",
              "       [16,  3, 17,  4,  5],\n",
              "       [18, 19,  0,  0,  0],\n",
              "       [20, 21,  0,  0,  0],\n",
              "       [22, 23,  1,  2,  0],\n",
              "       [ 4,  5,  0,  0,  0]], dtype=int32)"
            ]
          },
          "metadata": {},
          "execution_count": 31
        }
      ]
    },
    {
      "cell_type": "markdown",
      "source": [
        "\n",
        "# Embeddings\n",
        "\n",
        "The purpose of an embedding layer is typically to learn meaningful representations of categorical data, such as word embeddings in natural language processing tasks or item embeddings in recommendation systems."
      ],
      "metadata": {
        "id": "FuClj14FVucW"
      }
    },
    {
      "cell_type": "code",
      "source": [
        "model = Sequential()\n",
        "\n",
        "# 23 is total unique Vocabulary length, which means it expects input values ranging from 0 to 22. The input values will be used as indices to map to the corresponding embeddings.\n",
        "# Embedding layer will convert integer values (ranging from 0 to 22) into dense vectors of size 2.\n",
        "# The input sequences should have a length of 5.\n",
        "\n",
        "model.add(Embedding(23,output_dim=2,input_length=5))\n",
        "\n",
        "model.summary()"
      ],
      "metadata": {
        "colab": {
          "base_uri": "https://localhost:8080/"
        },
        "id": "7FdWV7YMaQrl",
        "outputId": "f81caca9-ed35-45bf-bcb4-08bd790c20e6"
      },
      "execution_count": 35,
      "outputs": [
        {
          "output_type": "stream",
          "name": "stdout",
          "text": [
            "Model: \"sequential_3\"\n",
            "_________________________________________________________________\n",
            " Layer (type)                Output Shape              Param #   \n",
            "=================================================================\n",
            " embedding_1 (Embedding)     (None, 5, 2)              46        \n",
            "                                                                 \n",
            "=================================================================\n",
            "Total params: 46 (184.00 Byte)\n",
            "Trainable params: 46 (184.00 Byte)\n",
            "Non-trainable params: 0 (0.00 Byte)\n",
            "_________________________________________________________________\n"
          ]
        }
      ]
    },
    {
      "cell_type": "code",
      "source": [
        "model.compile('adam','accuracy')"
      ],
      "metadata": {
        "id": "2TxCMK-yaTut"
      },
      "execution_count": 33,
      "outputs": []
    },
    {
      "cell_type": "code",
      "source": [
        "pred = model.predict(sequences)\n",
        "print(pred)"
      ],
      "metadata": {
        "colab": {
          "base_uri": "https://localhost:8080/",
          "height": 1000
        },
        "id": "gEF6P2qSaWS1",
        "outputId": "accaa806-6a20-473a-c206-bd0703513bdb"
      },
      "execution_count": 37,
      "outputs": [
        {
          "output_type": "error",
          "ename": "InvalidArgumentError",
          "evalue": "ignored",
          "traceback": [
            "\u001b[0;31m---------------------------------------------------------------------------\u001b[0m",
            "\u001b[0;31mInvalidArgumentError\u001b[0m                      Traceback (most recent call last)",
            "\u001b[0;32m<ipython-input-37-3f46a817c7e2>\u001b[0m in \u001b[0;36m<cell line: 1>\u001b[0;34m()\u001b[0m\n\u001b[0;32m----> 1\u001b[0;31m \u001b[0mpred\u001b[0m \u001b[0;34m=\u001b[0m \u001b[0mmodel\u001b[0m\u001b[0;34m.\u001b[0m\u001b[0mpredict\u001b[0m\u001b[0;34m(\u001b[0m\u001b[0msequences\u001b[0m\u001b[0;34m)\u001b[0m\u001b[0;34m\u001b[0m\u001b[0;34m\u001b[0m\u001b[0m\n\u001b[0m\u001b[1;32m      2\u001b[0m \u001b[0mprint\u001b[0m\u001b[0;34m(\u001b[0m\u001b[0mpred\u001b[0m\u001b[0;34m)\u001b[0m\u001b[0;34m\u001b[0m\u001b[0;34m\u001b[0m\u001b[0m\n",
            "\u001b[0;32m/usr/local/lib/python3.10/dist-packages/keras/src/utils/traceback_utils.py\u001b[0m in \u001b[0;36merror_handler\u001b[0;34m(*args, **kwargs)\u001b[0m\n\u001b[1;32m     68\u001b[0m             \u001b[0;31m# To get the full stack trace, call:\u001b[0m\u001b[0;34m\u001b[0m\u001b[0;34m\u001b[0m\u001b[0m\n\u001b[1;32m     69\u001b[0m             \u001b[0;31m# `tf.debugging.disable_traceback_filtering()`\u001b[0m\u001b[0;34m\u001b[0m\u001b[0;34m\u001b[0m\u001b[0m\n\u001b[0;32m---> 70\u001b[0;31m             \u001b[0;32mraise\u001b[0m \u001b[0me\u001b[0m\u001b[0;34m.\u001b[0m\u001b[0mwith_traceback\u001b[0m\u001b[0;34m(\u001b[0m\u001b[0mfiltered_tb\u001b[0m\u001b[0;34m)\u001b[0m \u001b[0;32mfrom\u001b[0m \u001b[0;32mNone\u001b[0m\u001b[0;34m\u001b[0m\u001b[0;34m\u001b[0m\u001b[0m\n\u001b[0m\u001b[1;32m     71\u001b[0m         \u001b[0;32mfinally\u001b[0m\u001b[0;34m:\u001b[0m\u001b[0;34m\u001b[0m\u001b[0;34m\u001b[0m\u001b[0m\n\u001b[1;32m     72\u001b[0m             \u001b[0;32mdel\u001b[0m \u001b[0mfiltered_tb\u001b[0m\u001b[0;34m\u001b[0m\u001b[0;34m\u001b[0m\u001b[0m\n",
            "\u001b[0;32m/usr/local/lib/python3.10/dist-packages/tensorflow/python/eager/execute.py\u001b[0m in \u001b[0;36mquick_execute\u001b[0;34m(op_name, num_outputs, inputs, attrs, ctx, name)\u001b[0m\n\u001b[1;32m     51\u001b[0m   \u001b[0;32mtry\u001b[0m\u001b[0;34m:\u001b[0m\u001b[0;34m\u001b[0m\u001b[0;34m\u001b[0m\u001b[0m\n\u001b[1;32m     52\u001b[0m     \u001b[0mctx\u001b[0m\u001b[0;34m.\u001b[0m\u001b[0mensure_initialized\u001b[0m\u001b[0;34m(\u001b[0m\u001b[0;34m)\u001b[0m\u001b[0;34m\u001b[0m\u001b[0;34m\u001b[0m\u001b[0m\n\u001b[0;32m---> 53\u001b[0;31m     tensors = pywrap_tfe.TFE_Py_Execute(ctx._handle, device_name, op_name,\n\u001b[0m\u001b[1;32m     54\u001b[0m                                         inputs, attrs, num_outputs)\n\u001b[1;32m     55\u001b[0m   \u001b[0;32mexcept\u001b[0m \u001b[0mcore\u001b[0m\u001b[0;34m.\u001b[0m\u001b[0m_NotOkStatusException\u001b[0m \u001b[0;32mas\u001b[0m \u001b[0me\u001b[0m\u001b[0;34m:\u001b[0m\u001b[0;34m\u001b[0m\u001b[0;34m\u001b[0m\u001b[0m\n",
            "\u001b[0;31mInvalidArgumentError\u001b[0m: Graph execution error:\n\nDetected at node 'sequential_3/embedding_1/embedding_lookup' defined at (most recent call last):\n    File \"/usr/lib/python3.10/runpy.py\", line 196, in _run_module_as_main\n      return _run_code(code, main_globals, None,\n    File \"/usr/lib/python3.10/runpy.py\", line 86, in _run_code\n      exec(code, run_globals)\n    File \"/usr/local/lib/python3.10/dist-packages/colab_kernel_launcher.py\", line 37, in <module>\n      ColabKernelApp.launch_instance()\n    File \"/usr/local/lib/python3.10/dist-packages/traitlets/config/application.py\", line 992, in launch_instance\n      app.start()\n    File \"/usr/local/lib/python3.10/dist-packages/ipykernel/kernelapp.py\", line 619, in start\n      self.io_loop.start()\n    File \"/usr/local/lib/python3.10/dist-packages/tornado/platform/asyncio.py\", line 195, in start\n      self.asyncio_loop.run_forever()\n    File \"/usr/lib/python3.10/asyncio/base_events.py\", line 603, in run_forever\n      self._run_once()\n    File \"/usr/lib/python3.10/asyncio/base_events.py\", line 1909, in _run_once\n      handle._run()\n    File \"/usr/lib/python3.10/asyncio/events.py\", line 80, in _run\n      self._context.run(self._callback, *self._args)\n    File \"/usr/local/lib/python3.10/dist-packages/tornado/ioloop.py\", line 685, in <lambda>\n      lambda f: self._run_callback(functools.partial(callback, future))\n    File \"/usr/local/lib/python3.10/dist-packages/tornado/ioloop.py\", line 738, in _run_callback\n      ret = callback()\n    File \"/usr/local/lib/python3.10/dist-packages/tornado/gen.py\", line 825, in inner\n      self.ctx_run(self.run)\n    File \"/usr/local/lib/python3.10/dist-packages/tornado/gen.py\", line 786, in run\n      yielded = self.gen.send(value)\n    File \"/usr/local/lib/python3.10/dist-packages/ipykernel/kernelbase.py\", line 361, in process_one\n      yield gen.maybe_future(dispatch(*args))\n    File \"/usr/local/lib/python3.10/dist-packages/tornado/gen.py\", line 234, in wrapper\n      yielded = ctx_run(next, result)\n    File \"/usr/local/lib/python3.10/dist-packages/ipykernel/kernelbase.py\", line 261, in dispatch_shell\n      yield gen.maybe_future(handler(stream, idents, msg))\n    File \"/usr/local/lib/python3.10/dist-packages/tornado/gen.py\", line 234, in wrapper\n      yielded = ctx_run(next, result)\n    File \"/usr/local/lib/python3.10/dist-packages/ipykernel/kernelbase.py\", line 539, in execute_request\n      self.do_execute(\n    File \"/usr/local/lib/python3.10/dist-packages/tornado/gen.py\", line 234, in wrapper\n      yielded = ctx_run(next, result)\n    File \"/usr/local/lib/python3.10/dist-packages/ipykernel/ipkernel.py\", line 302, in do_execute\n      res = shell.run_cell(code, store_history=store_history, silent=silent)\n    File \"/usr/local/lib/python3.10/dist-packages/ipykernel/zmqshell.py\", line 539, in run_cell\n      return super(ZMQInteractiveShell, self).run_cell(*args, **kwargs)\n    File \"/usr/local/lib/python3.10/dist-packages/IPython/core/interactiveshell.py\", line 2975, in run_cell\n      result = self._run_cell(\n    File \"/usr/local/lib/python3.10/dist-packages/IPython/core/interactiveshell.py\", line 3030, in _run_cell\n      return runner(coro)\n    File \"/usr/local/lib/python3.10/dist-packages/IPython/core/async_helpers.py\", line 78, in _pseudo_sync_runner\n      coro.send(None)\n    File \"/usr/local/lib/python3.10/dist-packages/IPython/core/interactiveshell.py\", line 3257, in run_cell_async\n      has_raised = await self.run_ast_nodes(code_ast.body, cell_name,\n    File \"/usr/local/lib/python3.10/dist-packages/IPython/core/interactiveshell.py\", line 3473, in run_ast_nodes\n      if (await self.run_code(code, result,  async_=asy)):\n    File \"/usr/local/lib/python3.10/dist-packages/IPython/core/interactiveshell.py\", line 3553, in run_code\n      exec(code_obj, self.user_global_ns, self.user_ns)\n    File \"<ipython-input-36-3f46a817c7e2>\", line 1, in <cell line: 1>\n      pred = model.predict(sequences)\n    File \"/usr/local/lib/python3.10/dist-packages/keras/src/utils/traceback_utils.py\", line 65, in error_handler\n      return fn(*args, **kwargs)\n    File \"/usr/local/lib/python3.10/dist-packages/keras/src/engine/training.py\", line 2554, in predict\n      tmp_batch_outputs = self.predict_function(iterator)\n    File \"/usr/local/lib/python3.10/dist-packages/keras/src/engine/training.py\", line 2341, in predict_function\n      return step_function(self, iterator)\n    File \"/usr/local/lib/python3.10/dist-packages/keras/src/engine/training.py\", line 2327, in step_function\n      outputs = model.distribute_strategy.run(run_step, args=(data,))\n    File \"/usr/local/lib/python3.10/dist-packages/keras/src/engine/training.py\", line 2315, in run_step\n      outputs = model.predict_step(data)\n    File \"/usr/local/lib/python3.10/dist-packages/keras/src/engine/training.py\", line 2283, in predict_step\n      return self(x, training=False)\n    File \"/usr/local/lib/python3.10/dist-packages/keras/src/utils/traceback_utils.py\", line 65, in error_handler\n      return fn(*args, **kwargs)\n    File \"/usr/local/lib/python3.10/dist-packages/keras/src/engine/training.py\", line 569, in __call__\n      return super().__call__(*args, **kwargs)\n    File \"/usr/local/lib/python3.10/dist-packages/keras/src/utils/traceback_utils.py\", line 65, in error_handler\n      return fn(*args, **kwargs)\n    File \"/usr/local/lib/python3.10/dist-packages/keras/src/engine/base_layer.py\", line 1150, in __call__\n      outputs = call_fn(inputs, *args, **kwargs)\n    File \"/usr/local/lib/python3.10/dist-packages/keras/src/utils/traceback_utils.py\", line 96, in error_handler\n      return fn(*args, **kwargs)\n    File \"/usr/local/lib/python3.10/dist-packages/keras/src/engine/sequential.py\", line 405, in call\n      return super().call(inputs, training=training, mask=mask)\n    File \"/usr/local/lib/python3.10/dist-packages/keras/src/engine/functional.py\", line 512, in call\n      return self._run_internal_graph(inputs, training=training, mask=mask)\n    File \"/usr/local/lib/python3.10/dist-packages/keras/src/engine/functional.py\", line 669, in _run_internal_graph\n      outputs = node.layer(*args, **kwargs)\n    File \"/usr/local/lib/python3.10/dist-packages/keras/src/utils/traceback_utils.py\", line 65, in error_handler\n      return fn(*args, **kwargs)\n    File \"/usr/local/lib/python3.10/dist-packages/keras/src/engine/base_layer.py\", line 1150, in __call__\n      outputs = call_fn(inputs, *args, **kwargs)\n    File \"/usr/local/lib/python3.10/dist-packages/keras/src/utils/traceback_utils.py\", line 96, in error_handler\n      return fn(*args, **kwargs)\n    File \"/usr/local/lib/python3.10/dist-packages/keras/src/layers/core/embedding.py\", line 272, in call\n      out = tf.nn.embedding_lookup(self.embeddings, inputs)\nNode: 'sequential_3/embedding_1/embedding_lookup'\nindices[9,1] = 23 is not in [0, 23)\n\t [[{{node sequential_3/embedding_1/embedding_lookup}}]] [Op:__inference_predict_function_33747]"
          ]
        }
      ]
    },
    {
      "cell_type": "code",
      "source": [
        "from keras.datasets import imdb\n",
        "from keras.preprocessing.text import Tokenizer\n",
        "from keras.utils import pad_sequences\n",
        "from keras import Sequential\n",
        "from keras.layers import Dense,SimpleRNN,Embedding,Flatten"
      ],
      "metadata": {
        "id": "kOe6Y-XvaYpV"
      },
      "execution_count": 38,
      "outputs": []
    },
    {
      "cell_type": "code",
      "source": [
        "(X_train,y_train),(X_test,y_test) = imdb.load_data()"
      ],
      "metadata": {
        "id": "4GJQffxGab_F"
      },
      "execution_count": 39,
      "outputs": []
    },
    {
      "cell_type": "code",
      "source": [
        "X_train = pad_sequences(X_train,padding='post',maxlen=50)\n",
        "X_test = pad_sequences(X_test,padding='post',maxlen=50)"
      ],
      "metadata": {
        "id": "i_qz5WkXadm2"
      },
      "execution_count": 40,
      "outputs": []
    },
    {
      "cell_type": "code",
      "source": [
        "X_train.shape\n"
      ],
      "metadata": {
        "colab": {
          "base_uri": "https://localhost:8080/"
        },
        "id": "JrxiCIxeae5t",
        "outputId": "9be32240-9be1-44e3-e541-62af13ef467c"
      },
      "execution_count": 41,
      "outputs": [
        {
          "output_type": "execute_result",
          "data": {
            "text/plain": [
              "(25000, 50)"
            ]
          },
          "metadata": {},
          "execution_count": 41
        }
      ]
    },
    {
      "cell_type": "code",
      "source": [
        "X_train[2]"
      ],
      "metadata": {
        "colab": {
          "base_uri": "https://localhost:8080/"
        },
        "id": "AmccvG6aaIxn",
        "outputId": "28a972bb-fa46-4d1e-f5f7-43a9a7b843c2"
      },
      "execution_count": 48,
      "outputs": [
        {
          "output_type": "execute_result",
          "data": {
            "text/plain": [
              "array([  215,    28,   610,    40,     6,    87,   326,    23,  2300,\n",
              "          21,    23,    22,    12,   272,    40,    57,    31,    11,\n",
              "           4,    22,    47,     6,  2307,    51,     9,   170,    23,\n",
              "         595,   116,   595,  1352,    13,   191,    79,   638,    89,\n",
              "       51428,    14,     9,     8,   106,   607,   624,    35,   534,\n",
              "           6,   227,     7,   129,   113], dtype=int32)"
            ]
          },
          "metadata": {},
          "execution_count": 48
        }
      ]
    },
    {
      "cell_type": "code",
      "source": [
        "model = Sequential()\n",
        "model.add(Embedding(10000,output_dim=2,input_length=50))\n",
        "model.add(SimpleRNN(32,return_sequences=False))\n",
        "model.add(Dense(1, activation='sigmoid'))\n",
        "\n",
        "model.summary()"
      ],
      "metadata": {
        "colab": {
          "base_uri": "https://localhost:8080/"
        },
        "id": "wLk-ynhmahtF",
        "outputId": "11ce0e61-60da-4181-b31c-fbbbad84620d"
      },
      "execution_count": 42,
      "outputs": [
        {
          "output_type": "stream",
          "name": "stdout",
          "text": [
            "Model: \"sequential_4\"\n",
            "_________________________________________________________________\n",
            " Layer (type)                Output Shape              Param #   \n",
            "=================================================================\n",
            " embedding_2 (Embedding)     (None, 50, 2)             20000     \n",
            "                                                                 \n",
            " simple_rnn_2 (SimpleRNN)    (None, 32)                1120      \n",
            "                                                                 \n",
            " dense_2 (Dense)             (None, 1)                 33        \n",
            "                                                                 \n",
            "=================================================================\n",
            "Total params: 21153 (82.63 KB)\n",
            "Trainable params: 21153 (82.63 KB)\n",
            "Non-trainable params: 0 (0.00 Byte)\n",
            "_________________________________________________________________\n"
          ]
        }
      ]
    },
    {
      "cell_type": "code",
      "source": [
        "model.compile(optimizer='adam', loss='binary_crossentropy', metrics=['acc'])\n"
      ],
      "metadata": {
        "id": "rhwG3Or7amgl"
      },
      "execution_count": 49,
      "outputs": []
    },
    {
      "cell_type": "code",
      "source": [
        "history = model.fit(X_train, y_train,epochs=1,validation_data=(X_test,y_test))"
      ],
      "metadata": {
        "colab": {
          "base_uri": "https://localhost:8080/",
          "height": 1000
        },
        "id": "NdtJqZJOas9Y",
        "outputId": "ec72c387-79ef-4384-e7b2-09130e686b2b"
      },
      "execution_count": 50,
      "outputs": [
        {
          "output_type": "error",
          "ename": "InvalidArgumentError",
          "evalue": "ignored",
          "traceback": [
            "\u001b[0;31m---------------------------------------------------------------------------\u001b[0m",
            "\u001b[0;31mInvalidArgumentError\u001b[0m                      Traceback (most recent call last)",
            "\u001b[0;32m<ipython-input-50-403a76cada27>\u001b[0m in \u001b[0;36m<cell line: 1>\u001b[0;34m()\u001b[0m\n\u001b[0;32m----> 1\u001b[0;31m \u001b[0mhistory\u001b[0m \u001b[0;34m=\u001b[0m \u001b[0mmodel\u001b[0m\u001b[0;34m.\u001b[0m\u001b[0mfit\u001b[0m\u001b[0;34m(\u001b[0m\u001b[0mX_train\u001b[0m\u001b[0;34m,\u001b[0m \u001b[0my_train\u001b[0m\u001b[0;34m,\u001b[0m\u001b[0mepochs\u001b[0m\u001b[0;34m=\u001b[0m\u001b[0;36m1\u001b[0m\u001b[0;34m,\u001b[0m\u001b[0mvalidation_data\u001b[0m\u001b[0;34m=\u001b[0m\u001b[0;34m(\u001b[0m\u001b[0mX_test\u001b[0m\u001b[0;34m,\u001b[0m\u001b[0my_test\u001b[0m\u001b[0;34m)\u001b[0m\u001b[0;34m)\u001b[0m\u001b[0;34m\u001b[0m\u001b[0;34m\u001b[0m\u001b[0m\n\u001b[0m",
            "\u001b[0;32m/usr/local/lib/python3.10/dist-packages/keras/src/utils/traceback_utils.py\u001b[0m in \u001b[0;36merror_handler\u001b[0;34m(*args, **kwargs)\u001b[0m\n\u001b[1;32m     68\u001b[0m             \u001b[0;31m# To get the full stack trace, call:\u001b[0m\u001b[0;34m\u001b[0m\u001b[0;34m\u001b[0m\u001b[0m\n\u001b[1;32m     69\u001b[0m             \u001b[0;31m# `tf.debugging.disable_traceback_filtering()`\u001b[0m\u001b[0;34m\u001b[0m\u001b[0;34m\u001b[0m\u001b[0m\n\u001b[0;32m---> 70\u001b[0;31m             \u001b[0;32mraise\u001b[0m \u001b[0me\u001b[0m\u001b[0;34m.\u001b[0m\u001b[0mwith_traceback\u001b[0m\u001b[0;34m(\u001b[0m\u001b[0mfiltered_tb\u001b[0m\u001b[0;34m)\u001b[0m \u001b[0;32mfrom\u001b[0m \u001b[0;32mNone\u001b[0m\u001b[0;34m\u001b[0m\u001b[0;34m\u001b[0m\u001b[0m\n\u001b[0m\u001b[1;32m     71\u001b[0m         \u001b[0;32mfinally\u001b[0m\u001b[0;34m:\u001b[0m\u001b[0;34m\u001b[0m\u001b[0;34m\u001b[0m\u001b[0m\n\u001b[1;32m     72\u001b[0m             \u001b[0;32mdel\u001b[0m \u001b[0mfiltered_tb\u001b[0m\u001b[0;34m\u001b[0m\u001b[0;34m\u001b[0m\u001b[0m\n",
            "\u001b[0;32m/usr/local/lib/python3.10/dist-packages/tensorflow/python/eager/execute.py\u001b[0m in \u001b[0;36mquick_execute\u001b[0;34m(op_name, num_outputs, inputs, attrs, ctx, name)\u001b[0m\n\u001b[1;32m     51\u001b[0m   \u001b[0;32mtry\u001b[0m\u001b[0;34m:\u001b[0m\u001b[0;34m\u001b[0m\u001b[0;34m\u001b[0m\u001b[0m\n\u001b[1;32m     52\u001b[0m     \u001b[0mctx\u001b[0m\u001b[0;34m.\u001b[0m\u001b[0mensure_initialized\u001b[0m\u001b[0;34m(\u001b[0m\u001b[0;34m)\u001b[0m\u001b[0;34m\u001b[0m\u001b[0;34m\u001b[0m\u001b[0m\n\u001b[0;32m---> 53\u001b[0;31m     tensors = pywrap_tfe.TFE_Py_Execute(ctx._handle, device_name, op_name,\n\u001b[0m\u001b[1;32m     54\u001b[0m                                         inputs, attrs, num_outputs)\n\u001b[1;32m     55\u001b[0m   \u001b[0;32mexcept\u001b[0m \u001b[0mcore\u001b[0m\u001b[0;34m.\u001b[0m\u001b[0m_NotOkStatusException\u001b[0m \u001b[0;32mas\u001b[0m \u001b[0me\u001b[0m\u001b[0;34m:\u001b[0m\u001b[0;34m\u001b[0m\u001b[0;34m\u001b[0m\u001b[0m\n",
            "\u001b[0;31mInvalidArgumentError\u001b[0m: Graph execution error:\n\nDetected at node 'sequential_4/embedding_2/embedding_lookup' defined at (most recent call last):\n    File \"/usr/lib/python3.10/runpy.py\", line 196, in _run_module_as_main\n      return _run_code(code, main_globals, None,\n    File \"/usr/lib/python3.10/runpy.py\", line 86, in _run_code\n      exec(code, run_globals)\n    File \"/usr/local/lib/python3.10/dist-packages/colab_kernel_launcher.py\", line 37, in <module>\n      ColabKernelApp.launch_instance()\n    File \"/usr/local/lib/python3.10/dist-packages/traitlets/config/application.py\", line 992, in launch_instance\n      app.start()\n    File \"/usr/local/lib/python3.10/dist-packages/ipykernel/kernelapp.py\", line 619, in start\n      self.io_loop.start()\n    File \"/usr/local/lib/python3.10/dist-packages/tornado/platform/asyncio.py\", line 195, in start\n      self.asyncio_loop.run_forever()\n    File \"/usr/lib/python3.10/asyncio/base_events.py\", line 603, in run_forever\n      self._run_once()\n    File \"/usr/lib/python3.10/asyncio/base_events.py\", line 1909, in _run_once\n      handle._run()\n    File \"/usr/lib/python3.10/asyncio/events.py\", line 80, in _run\n      self._context.run(self._callback, *self._args)\n    File \"/usr/local/lib/python3.10/dist-packages/tornado/ioloop.py\", line 685, in <lambda>\n      lambda f: self._run_callback(functools.partial(callback, future))\n    File \"/usr/local/lib/python3.10/dist-packages/tornado/ioloop.py\", line 738, in _run_callback\n      ret = callback()\n    File \"/usr/local/lib/python3.10/dist-packages/tornado/gen.py\", line 825, in inner\n      self.ctx_run(self.run)\n    File \"/usr/local/lib/python3.10/dist-packages/tornado/gen.py\", line 786, in run\n      yielded = self.gen.send(value)\n    File \"/usr/local/lib/python3.10/dist-packages/ipykernel/kernelbase.py\", line 361, in process_one\n      yield gen.maybe_future(dispatch(*args))\n    File \"/usr/local/lib/python3.10/dist-packages/tornado/gen.py\", line 234, in wrapper\n      yielded = ctx_run(next, result)\n    File \"/usr/local/lib/python3.10/dist-packages/ipykernel/kernelbase.py\", line 261, in dispatch_shell\n      yield gen.maybe_future(handler(stream, idents, msg))\n    File \"/usr/local/lib/python3.10/dist-packages/tornado/gen.py\", line 234, in wrapper\n      yielded = ctx_run(next, result)\n    File \"/usr/local/lib/python3.10/dist-packages/ipykernel/kernelbase.py\", line 539, in execute_request\n      self.do_execute(\n    File \"/usr/local/lib/python3.10/dist-packages/tornado/gen.py\", line 234, in wrapper\n      yielded = ctx_run(next, result)\n    File \"/usr/local/lib/python3.10/dist-packages/ipykernel/ipkernel.py\", line 302, in do_execute\n      res = shell.run_cell(code, store_history=store_history, silent=silent)\n    File \"/usr/local/lib/python3.10/dist-packages/ipykernel/zmqshell.py\", line 539, in run_cell\n      return super(ZMQInteractiveShell, self).run_cell(*args, **kwargs)\n    File \"/usr/local/lib/python3.10/dist-packages/IPython/core/interactiveshell.py\", line 2975, in run_cell\n      result = self._run_cell(\n    File \"/usr/local/lib/python3.10/dist-packages/IPython/core/interactiveshell.py\", line 3030, in _run_cell\n      return runner(coro)\n    File \"/usr/local/lib/python3.10/dist-packages/IPython/core/async_helpers.py\", line 78, in _pseudo_sync_runner\n      coro.send(None)\n    File \"/usr/local/lib/python3.10/dist-packages/IPython/core/interactiveshell.py\", line 3257, in run_cell_async\n      has_raised = await self.run_ast_nodes(code_ast.body, cell_name,\n    File \"/usr/local/lib/python3.10/dist-packages/IPython/core/interactiveshell.py\", line 3473, in run_ast_nodes\n      if (await self.run_code(code, result,  async_=asy)):\n    File \"/usr/local/lib/python3.10/dist-packages/IPython/core/interactiveshell.py\", line 3553, in run_code\n      exec(code_obj, self.user_global_ns, self.user_ns)\n    File \"<ipython-input-50-403a76cada27>\", line 1, in <cell line: 1>\n      history = model.fit(X_train, y_train,epochs=1,validation_data=(X_test,y_test))\n    File \"/usr/local/lib/python3.10/dist-packages/keras/src/utils/traceback_utils.py\", line 65, in error_handler\n      return fn(*args, **kwargs)\n    File \"/usr/local/lib/python3.10/dist-packages/keras/src/engine/training.py\", line 1742, in fit\n      tmp_logs = self.train_function(iterator)\n    File \"/usr/local/lib/python3.10/dist-packages/keras/src/engine/training.py\", line 1338, in train_function\n      return step_function(self, iterator)\n    File \"/usr/local/lib/python3.10/dist-packages/keras/src/engine/training.py\", line 1322, in step_function\n      outputs = model.distribute_strategy.run(run_step, args=(data,))\n    File \"/usr/local/lib/python3.10/dist-packages/keras/src/engine/training.py\", line 1303, in run_step\n      outputs = model.train_step(data)\n    File \"/usr/local/lib/python3.10/dist-packages/keras/src/engine/training.py\", line 1080, in train_step\n      y_pred = self(x, training=True)\n    File \"/usr/local/lib/python3.10/dist-packages/keras/src/utils/traceback_utils.py\", line 65, in error_handler\n      return fn(*args, **kwargs)\n    File \"/usr/local/lib/python3.10/dist-packages/keras/src/engine/training.py\", line 569, in __call__\n      return super().__call__(*args, **kwargs)\n    File \"/usr/local/lib/python3.10/dist-packages/keras/src/utils/traceback_utils.py\", line 65, in error_handler\n      return fn(*args, **kwargs)\n    File \"/usr/local/lib/python3.10/dist-packages/keras/src/engine/base_layer.py\", line 1150, in __call__\n      outputs = call_fn(inputs, *args, **kwargs)\n    File \"/usr/local/lib/python3.10/dist-packages/keras/src/utils/traceback_utils.py\", line 96, in error_handler\n      return fn(*args, **kwargs)\n    File \"/usr/local/lib/python3.10/dist-packages/keras/src/engine/sequential.py\", line 405, in call\n      return super().call(inputs, training=training, mask=mask)\n    File \"/usr/local/lib/python3.10/dist-packages/keras/src/engine/functional.py\", line 512, in call\n      return self._run_internal_graph(inputs, training=training, mask=mask)\n    File \"/usr/local/lib/python3.10/dist-packages/keras/src/engine/functional.py\", line 669, in _run_internal_graph\n      outputs = node.layer(*args, **kwargs)\n    File \"/usr/local/lib/python3.10/dist-packages/keras/src/utils/traceback_utils.py\", line 65, in error_handler\n      return fn(*args, **kwargs)\n    File \"/usr/local/lib/python3.10/dist-packages/keras/src/engine/base_layer.py\", line 1150, in __call__\n      outputs = call_fn(inputs, *args, **kwargs)\n    File \"/usr/local/lib/python3.10/dist-packages/keras/src/utils/traceback_utils.py\", line 96, in error_handler\n      return fn(*args, **kwargs)\n    File \"/usr/local/lib/python3.10/dist-packages/keras/src/layers/core/embedding.py\", line 272, in call\n      out = tf.nn.embedding_lookup(self.embeddings, inputs)\nNode: 'sequential_4/embedding_2/embedding_lookup'\nindices[0,12] = 11734 is not in [0, 10000)\n\t [[{{node sequential_4/embedding_2/embedding_lookup}}]] [Op:__inference_train_function_39271]"
          ]
        }
      ]
    },
    {
      "cell_type": "markdown",
      "source": [
        "# Predictions"
      ],
      "metadata": {
        "id": "oYgbhaFfeNKE"
      }
    },
    {
      "cell_type": "code",
      "source": [
        "X_test[0][0:50].reshape(1,-1).shape"
      ],
      "metadata": {
        "colab": {
          "base_uri": "https://localhost:8080/"
        },
        "id": "boKOR2b0UinN",
        "outputId": "d0bbf007-a0e6-4d96-9bb0-252bc0314c87"
      },
      "execution_count": 45,
      "outputs": [
        {
          "output_type": "execute_result",
          "data": {
            "text/plain": [
              "(1, 50)"
            ]
          },
          "metadata": {},
          "execution_count": 45
        }
      ]
    },
    {
      "cell_type": "code",
      "source": [
        "test_data = X_test[0][0:50].reshape(1,-1)"
      ],
      "metadata": {
        "id": "knQLVIUOdIdn"
      },
      "execution_count": 46,
      "outputs": []
    },
    {
      "cell_type": "code",
      "source": [
        "model.predict(test_data)"
      ],
      "metadata": {
        "colab": {
          "base_uri": "https://localhost:8080/",
          "height": 1000
        },
        "id": "g-EYytx9dQJ1",
        "outputId": "d7ad89f1-804b-4500-8a05-9e2bd273840c"
      },
      "execution_count": 47,
      "outputs": [
        {
          "output_type": "error",
          "ename": "InvalidArgumentError",
          "evalue": "ignored",
          "traceback": [
            "\u001b[0;31m---------------------------------------------------------------------------\u001b[0m",
            "\u001b[0;31mInvalidArgumentError\u001b[0m                      Traceback (most recent call last)",
            "\u001b[0;32m<ipython-input-47-a4e72cfaa5fb>\u001b[0m in \u001b[0;36m<cell line: 1>\u001b[0;34m()\u001b[0m\n\u001b[0;32m----> 1\u001b[0;31m \u001b[0mmodel\u001b[0m\u001b[0;34m.\u001b[0m\u001b[0mpredict\u001b[0m\u001b[0;34m(\u001b[0m\u001b[0mtest_data\u001b[0m\u001b[0;34m)\u001b[0m\u001b[0;34m\u001b[0m\u001b[0;34m\u001b[0m\u001b[0m\n\u001b[0m",
            "\u001b[0;32m/usr/local/lib/python3.10/dist-packages/keras/src/utils/traceback_utils.py\u001b[0m in \u001b[0;36merror_handler\u001b[0;34m(*args, **kwargs)\u001b[0m\n\u001b[1;32m     68\u001b[0m             \u001b[0;31m# To get the full stack trace, call:\u001b[0m\u001b[0;34m\u001b[0m\u001b[0;34m\u001b[0m\u001b[0m\n\u001b[1;32m     69\u001b[0m             \u001b[0;31m# `tf.debugging.disable_traceback_filtering()`\u001b[0m\u001b[0;34m\u001b[0m\u001b[0;34m\u001b[0m\u001b[0m\n\u001b[0;32m---> 70\u001b[0;31m             \u001b[0;32mraise\u001b[0m \u001b[0me\u001b[0m\u001b[0;34m.\u001b[0m\u001b[0mwith_traceback\u001b[0m\u001b[0;34m(\u001b[0m\u001b[0mfiltered_tb\u001b[0m\u001b[0;34m)\u001b[0m \u001b[0;32mfrom\u001b[0m \u001b[0;32mNone\u001b[0m\u001b[0;34m\u001b[0m\u001b[0;34m\u001b[0m\u001b[0m\n\u001b[0m\u001b[1;32m     71\u001b[0m         \u001b[0;32mfinally\u001b[0m\u001b[0;34m:\u001b[0m\u001b[0;34m\u001b[0m\u001b[0;34m\u001b[0m\u001b[0m\n\u001b[1;32m     72\u001b[0m             \u001b[0;32mdel\u001b[0m \u001b[0mfiltered_tb\u001b[0m\u001b[0;34m\u001b[0m\u001b[0;34m\u001b[0m\u001b[0m\n",
            "\u001b[0;32m/usr/local/lib/python3.10/dist-packages/tensorflow/python/eager/execute.py\u001b[0m in \u001b[0;36mquick_execute\u001b[0;34m(op_name, num_outputs, inputs, attrs, ctx, name)\u001b[0m\n\u001b[1;32m     51\u001b[0m   \u001b[0;32mtry\u001b[0m\u001b[0;34m:\u001b[0m\u001b[0;34m\u001b[0m\u001b[0;34m\u001b[0m\u001b[0m\n\u001b[1;32m     52\u001b[0m     \u001b[0mctx\u001b[0m\u001b[0;34m.\u001b[0m\u001b[0mensure_initialized\u001b[0m\u001b[0;34m(\u001b[0m\u001b[0;34m)\u001b[0m\u001b[0;34m\u001b[0m\u001b[0;34m\u001b[0m\u001b[0m\n\u001b[0;32m---> 53\u001b[0;31m     tensors = pywrap_tfe.TFE_Py_Execute(ctx._handle, device_name, op_name,\n\u001b[0m\u001b[1;32m     54\u001b[0m                                         inputs, attrs, num_outputs)\n\u001b[1;32m     55\u001b[0m   \u001b[0;32mexcept\u001b[0m \u001b[0mcore\u001b[0m\u001b[0;34m.\u001b[0m\u001b[0m_NotOkStatusException\u001b[0m \u001b[0;32mas\u001b[0m \u001b[0me\u001b[0m\u001b[0;34m:\u001b[0m\u001b[0;34m\u001b[0m\u001b[0;34m\u001b[0m\u001b[0m\n",
            "\u001b[0;31mInvalidArgumentError\u001b[0m: Graph execution error:\n\nDetected at node 'sequential_4/embedding_2/embedding_lookup' defined at (most recent call last):\n    File \"/usr/lib/python3.10/runpy.py\", line 196, in _run_module_as_main\n      return _run_code(code, main_globals, None,\n    File \"/usr/lib/python3.10/runpy.py\", line 86, in _run_code\n      exec(code, run_globals)\n    File \"/usr/local/lib/python3.10/dist-packages/colab_kernel_launcher.py\", line 37, in <module>\n      ColabKernelApp.launch_instance()\n    File \"/usr/local/lib/python3.10/dist-packages/traitlets/config/application.py\", line 992, in launch_instance\n      app.start()\n    File \"/usr/local/lib/python3.10/dist-packages/ipykernel/kernelapp.py\", line 619, in start\n      self.io_loop.start()\n    File \"/usr/local/lib/python3.10/dist-packages/tornado/platform/asyncio.py\", line 195, in start\n      self.asyncio_loop.run_forever()\n    File \"/usr/lib/python3.10/asyncio/base_events.py\", line 603, in run_forever\n      self._run_once()\n    File \"/usr/lib/python3.10/asyncio/base_events.py\", line 1909, in _run_once\n      handle._run()\n    File \"/usr/lib/python3.10/asyncio/events.py\", line 80, in _run\n      self._context.run(self._callback, *self._args)\n    File \"/usr/local/lib/python3.10/dist-packages/tornado/ioloop.py\", line 685, in <lambda>\n      lambda f: self._run_callback(functools.partial(callback, future))\n    File \"/usr/local/lib/python3.10/dist-packages/tornado/ioloop.py\", line 738, in _run_callback\n      ret = callback()\n    File \"/usr/local/lib/python3.10/dist-packages/tornado/gen.py\", line 825, in inner\n      self.ctx_run(self.run)\n    File \"/usr/local/lib/python3.10/dist-packages/tornado/gen.py\", line 786, in run\n      yielded = self.gen.send(value)\n    File \"/usr/local/lib/python3.10/dist-packages/ipykernel/kernelbase.py\", line 361, in process_one\n      yield gen.maybe_future(dispatch(*args))\n    File \"/usr/local/lib/python3.10/dist-packages/tornado/gen.py\", line 234, in wrapper\n      yielded = ctx_run(next, result)\n    File \"/usr/local/lib/python3.10/dist-packages/ipykernel/kernelbase.py\", line 261, in dispatch_shell\n      yield gen.maybe_future(handler(stream, idents, msg))\n    File \"/usr/local/lib/python3.10/dist-packages/tornado/gen.py\", line 234, in wrapper\n      yielded = ctx_run(next, result)\n    File \"/usr/local/lib/python3.10/dist-packages/ipykernel/kernelbase.py\", line 539, in execute_request\n      self.do_execute(\n    File \"/usr/local/lib/python3.10/dist-packages/tornado/gen.py\", line 234, in wrapper\n      yielded = ctx_run(next, result)\n    File \"/usr/local/lib/python3.10/dist-packages/ipykernel/ipkernel.py\", line 302, in do_execute\n      res = shell.run_cell(code, store_history=store_history, silent=silent)\n    File \"/usr/local/lib/python3.10/dist-packages/ipykernel/zmqshell.py\", line 539, in run_cell\n      return super(ZMQInteractiveShell, self).run_cell(*args, **kwargs)\n    File \"/usr/local/lib/python3.10/dist-packages/IPython/core/interactiveshell.py\", line 2975, in run_cell\n      result = self._run_cell(\n    File \"/usr/local/lib/python3.10/dist-packages/IPython/core/interactiveshell.py\", line 3030, in _run_cell\n      return runner(coro)\n    File \"/usr/local/lib/python3.10/dist-packages/IPython/core/async_helpers.py\", line 78, in _pseudo_sync_runner\n      coro.send(None)\n    File \"/usr/local/lib/python3.10/dist-packages/IPython/core/interactiveshell.py\", line 3257, in run_cell_async\n      has_raised = await self.run_ast_nodes(code_ast.body, cell_name,\n    File \"/usr/local/lib/python3.10/dist-packages/IPython/core/interactiveshell.py\", line 3473, in run_ast_nodes\n      if (await self.run_code(code, result,  async_=asy)):\n    File \"/usr/local/lib/python3.10/dist-packages/IPython/core/interactiveshell.py\", line 3553, in run_code\n      exec(code_obj, self.user_global_ns, self.user_ns)\n    File \"<ipython-input-47-a4e72cfaa5fb>\", line 1, in <cell line: 1>\n      model.predict(test_data)\n    File \"/usr/local/lib/python3.10/dist-packages/keras/src/utils/traceback_utils.py\", line 65, in error_handler\n      return fn(*args, **kwargs)\n    File \"/usr/local/lib/python3.10/dist-packages/keras/src/engine/training.py\", line 2554, in predict\n      tmp_batch_outputs = self.predict_function(iterator)\n    File \"/usr/local/lib/python3.10/dist-packages/keras/src/engine/training.py\", line 2341, in predict_function\n      return step_function(self, iterator)\n    File \"/usr/local/lib/python3.10/dist-packages/keras/src/engine/training.py\", line 2327, in step_function\n      outputs = model.distribute_strategy.run(run_step, args=(data,))\n    File \"/usr/local/lib/python3.10/dist-packages/keras/src/engine/training.py\", line 2315, in run_step\n      outputs = model.predict_step(data)\n    File \"/usr/local/lib/python3.10/dist-packages/keras/src/engine/training.py\", line 2283, in predict_step\n      return self(x, training=False)\n    File \"/usr/local/lib/python3.10/dist-packages/keras/src/utils/traceback_utils.py\", line 65, in error_handler\n      return fn(*args, **kwargs)\n    File \"/usr/local/lib/python3.10/dist-packages/keras/src/engine/training.py\", line 569, in __call__\n      return super().__call__(*args, **kwargs)\n    File \"/usr/local/lib/python3.10/dist-packages/keras/src/utils/traceback_utils.py\", line 65, in error_handler\n      return fn(*args, **kwargs)\n    File \"/usr/local/lib/python3.10/dist-packages/keras/src/engine/base_layer.py\", line 1150, in __call__\n      outputs = call_fn(inputs, *args, **kwargs)\n    File \"/usr/local/lib/python3.10/dist-packages/keras/src/utils/traceback_utils.py\", line 96, in error_handler\n      return fn(*args, **kwargs)\n    File \"/usr/local/lib/python3.10/dist-packages/keras/src/engine/sequential.py\", line 405, in call\n      return super().call(inputs, training=training, mask=mask)\n    File \"/usr/local/lib/python3.10/dist-packages/keras/src/engine/functional.py\", line 512, in call\n      return self._run_internal_graph(inputs, training=training, mask=mask)\n    File \"/usr/local/lib/python3.10/dist-packages/keras/src/engine/functional.py\", line 669, in _run_internal_graph\n      outputs = node.layer(*args, **kwargs)\n    File \"/usr/local/lib/python3.10/dist-packages/keras/src/utils/traceback_utils.py\", line 65, in error_handler\n      return fn(*args, **kwargs)\n    File \"/usr/local/lib/python3.10/dist-packages/keras/src/engine/base_layer.py\", line 1150, in __call__\n      outputs = call_fn(inputs, *args, **kwargs)\n    File \"/usr/local/lib/python3.10/dist-packages/keras/src/utils/traceback_utils.py\", line 96, in error_handler\n      return fn(*args, **kwargs)\n    File \"/usr/local/lib/python3.10/dist-packages/keras/src/layers/core/embedding.py\", line 272, in call\n      out = tf.nn.embedding_lookup(self.embeddings, inputs)\nNode: 'sequential_4/embedding_2/embedding_lookup'\nindices[0,40] = 15387 is not in [0, 10000)\n\t [[{{node sequential_4/embedding_2/embedding_lookup}}]] [Op:__inference_predict_function_37581]"
          ]
        }
      ]
    },
    {
      "cell_type": "code",
      "source": [],
      "metadata": {
        "id": "bc6ZWSpEeJzl"
      },
      "execution_count": null,
      "outputs": []
    }
  ]
}